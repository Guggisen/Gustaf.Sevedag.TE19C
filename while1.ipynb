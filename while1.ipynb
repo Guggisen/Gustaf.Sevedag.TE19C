{
 "metadata": {
  "language_info": {
   "codemirror_mode": {
    "name": "ipython",
    "version": 3
   },
   "file_extension": ".py",
   "mimetype": "text/x-python",
   "name": "python",
   "nbconvert_exporter": "python",
   "pygments_lexer": "ipython3",
   "version": "3.8.5-final"
  },
  "orig_nbformat": 2,
  "kernelspec": {
   "name": "Python 3.8.5 32-bit",
   "display_name": "Python 3.8.5 32-bit",
   "metadata": {
    "interpreter": {
     "hash": "5f4851ec01adc4430b214743d7828196d9f4c0b351c3d8bf7d3405d9515b975f"
    }
   }
  }
 },
 "nbformat": 4,
 "nbformat_minor": 2,
 "cells": [
  {
   "cell_type": "code",
   "execution_count": 15,
   "metadata": {
    "tags": []
   },
   "outputs": [
    {
     "output_type": "stream",
     "name": "stdout",
     "text": [
      "5050\n"
     ]
    }
   ],
   "source": [
    "y, n = 0, 0\n",
    "\n",
    "\n",
    "\n",
    "while n < 101:\n",
    "    y += n\n",
    "    n += 1\n",
    "   \n",
    "print(y)\n"
   ]
  },
  {
   "cell_type": "code",
   "execution_count": 9,
   "metadata": {},
   "outputs": [
    {
     "output_type": "stream",
     "name": "stdout",
     "text": [
      "2500\n"
     ]
    }
   ],
   "source": [
    "y, n = 0, 1\n",
    "\n",
    "\n",
    "\n",
    "while n < 100:\n",
    "    y += n\n",
    "    n += 2\n",
    "   \n",
    "print(y)\n"
   ]
  },
  {
   "cell_type": "code",
   "execution_count": 13,
   "metadata": {},
   "outputs": [],
   "source": [
    "y = 0\n",
    "\n",
    " \n",
    "\n",
    "while x < 2:\n",
    "    x = 2**y\n",
    "    y -= 1\n",
    "    print(x)\n",
    "\n",
    "\n",
    "\n"
   ]
  },
  {
   "cell_type": "code",
   "execution_count": null,
   "metadata": {
    "tags": []
   },
   "outputs": [],
   "source": [
    "import random as rnd\n",
    "y = rnd.randint(0, 100)\n",
    "\n",
    "x = float(input(\"Gissa på ett tal mellan 0 och 100\"))\n",
    "\n",
    "while x !=y:\n",
    "    input(\"Fel, fortsätt gissa.\")\n",
    "\n",
    "\n",
    "if x == y:\n",
    "    print(\"Du gissade rätt\")\n",
    " \n",
    "while x > y:\n",
    "   x = float(print(\"Talet är lägre, fortsätt gissa\"))\n",
    "\n",
    "while x < y: \n",
    "   x = flaot(print(\"Talet är högre, gissa igen\"))\n"
   ]
  },
  {
   "cell_type": "code",
   "execution_count": null,
   "metadata": {},
   "outputs": [],
   "source": []
  },
  {
   "cell_type": "code",
   "execution_count": null,
   "metadata": {},
   "outputs": [],
   "source": []
  }
 ]
}