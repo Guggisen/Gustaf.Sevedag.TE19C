{
 "metadata": {
  "language_info": {
   "codemirror_mode": {
    "name": "ipython",
    "version": 3
   },
   "file_extension": ".py",
   "mimetype": "text/x-python",
   "name": "python",
   "nbconvert_exporter": "python",
   "pygments_lexer": "ipython3",
   "version": "3.8.5-final"
  },
  "orig_nbformat": 2,
  "kernelspec": {
   "name": "Python 3.8.5 32-bit",
   "display_name": "Python 3.8.5 32-bit",
   "metadata": {
    "interpreter": {
     "hash": "5f4851ec01adc4430b214743d7828196d9f4c0b351c3d8bf7d3405d9515b975f"
    }
   }
  }
 },
 "nbformat": 4,
 "nbformat_minor": 2,
 "cells": [
  {
   "cell_type": "code",
   "execution_count": 134,
   "metadata": {},
   "outputs": [
    {
     "output_type": "stream",
     "name": "stdout",
     "text": [
      "sträckan från origa vid punkten (0.5, 0.5) är 0.7071067811865476\n"
     ]
    }
   ],
   "source": [
    "#uppgift 1 a\n",
    "import math\n",
    "\n",
    "y = 0.5\n",
    "\n",
    "y1 = y * y\n",
    "y1 = y * y\n",
    "c2 = y1 + y1\n",
    "c = math.sqrt(c2)\n",
    "\n",
    "print('sträckan från origa vid punkten (0.5, 0.5) är ' + str(c))"
   ]
  },
  {
   "cell_type": "code",
   "execution_count": 137,
   "metadata": {},
   "outputs": [
    {
     "output_type": "stream",
     "name": "stdout",
     "text": [
      "sträckan från origa vid punkten (1, 1) är 1.4142135623730951\n"
     ]
    }
   ],
   "source": [
    "#uppgift 1 b\n",
    "import math\n",
    "\n",
    "y = 1\n",
    "x = 1\n",
    "\n",
    "y3 = y * y\n",
    "x3 = x * x\n",
    "c2 = x3 + y3\n",
    "c = math.sqrt(c2)\n",
    "\n",
    "print('sträckan från origo vid punkten (1, 1) är ' + str(c))"
   ]
  },
  {
   "cell_type": "code",
   "execution_count": 248,
   "metadata": {},
   "outputs": [
    {
     "output_type": "stream",
     "name": "stdout",
     "text": [
      "Slumpade koordinat: -0.7513940859438646, 0.5437523447037969\nSlumpade koordinat: -0.34993458651844334, 0.7660047590962642\nSlumpade koordinat: 0.9513149819774556, 0.3776786617867165\nSlumpade koordinat: -0.9803715524322083, 0.28637513044723417\nSlumpade koordinat: 0.9236082373925427, 0.873639496483708\nSlumpade koordinat: -0.7336629636328178, 0.09952159836048935\nSlumpade koordinat: 0.5008273829376011, 0.7480148758218097\nSlumpade koordinat: -0.7734375271934819, 0.5349159477338135\nSlumpade koordinat: 0.5476734569171982, -0.520387291779659\nSlumpade koordinat: 0.7270644340769232, -0.8969284889185389\nSlumpade koordinat: -0.8693754577129023, -0.2917727370432004\n"
     ]
    }
   ],
   "source": [
    "#Uppgift 1 d\n",
    "import random as rnd \n",
    "\n",
    "loop = 0\n",
    "\n",
    "while loop <11:\n",
    "    loop = loop + 1\n",
    "    \n",
    "    y = rnd.uniform(-1, 1)\n",
    "    x = rnd.uniform(-1, 1)\n",
    "    \n",
    "    print(f\"Slumpade koordinat: {y}, {x}\")"
   ]
  },
  {
   "cell_type": "code",
   "execution_count": 243,
   "metadata": {},
   "outputs": [
    {
     "output_type": "stream",
     "name": "stdout",
     "text": [
      "sträckan från origa till punkten (0.5, -0.5) är 0.7071067811865476\n"
     ]
    }
   ],
   "source": [
    "#uppgift 1 c\n",
    "\n",
    "import math\n",
    "\n",
    "yaxeln = -0.5\n",
    "xaxeln = 0.5\n",
    "\n",
    "y = yaxeln * yaxeln\n",
    "x = xaxeln * xaxeln\n",
    "c = x + y\n",
    "hypotentusan = math.sqrt(c)\n",
    "\n",
    "print('sträckan från origo till punkten (0.5, -0.5) är ' + str(hypotentusan))"
   ]
  },
  {
   "cell_type": "code",
   "execution_count": 276,
   "metadata": {},
   "outputs": [
    {
     "output_type": "stream",
     "name": "stdout",
     "text": [
      "På 100.0 antal kast träffade du 73 i cirkeln och 27 utanför cirkeln vilket ger dig en pricksäkerhet på 0.73\n"
     ]
    }
   ],
   "source": [
    "\n",
    "#uppgift 1 e\n",
    "\n",
    "#då radien på cirkeln är 1 kan du inte träffa mer än 1 utanför.\n",
    "\n",
    "forsok = float(input(\"Hur många gånger kastar du?\"))\n",
    "\n",
    "traff = 0\n",
    "\n",
    "miss = 0\n",
    "\n",
    "import random as rnd \n",
    "\n",
    "loop = 0\n",
    "\n",
    "while loop < forsok:\n",
    "    loop = loop + 1\n",
    "    \n",
    "    y = rnd.uniform(-1, 1)\n",
    "    x = rnd.uniform(-1, 1)\n",
    "    \n",
    "    y2 = y * y\n",
    "    x2 = x * x\n",
    "    c = x2 + y2\n",
    "    hypotentusan = math.sqrt(c)\n",
    "\n",
    "    if hypotentusan > 1:\n",
    "        miss = miss + 1\n",
    "\n",
    "    if hypotentusan < 1:\n",
    "        traff = traff + 1\n",
    "\n",
    "    resultat = traff / forsok\n",
    "\n",
    "print(f\"På {forsok} antal kast träffade du {traff} i cirkeln och {miss} utanför cirkeln vilket ger dig en pricksäkerhet på {resultat}\")"
   ]
  },
  {
   "cell_type": "code",
   "execution_count": 278,
   "metadata": {},
   "outputs": [
    {
     "output_type": "stream",
     "name": "stdout",
     "text": [
      "3.32\n"
     ]
    }
   ],
   "source": [
    "#uppgift 1 f\n",
    "\n",
    "forsok = float(input(\"Hur många gånger kastar du?\"))\n",
    "\n",
    "traff = 0\n",
    "\n",
    "miss = 0\n",
    "\n",
    "import random as rnd \n",
    "\n",
    "loop = 0\n",
    "\n",
    "while loop < forsok:\n",
    "    loop = loop + 1\n",
    "    \n",
    "    y = rnd.uniform(-1, 1)\n",
    "    x = rnd.uniform(-1, 1)\n",
    "    \n",
    "    y2 = y * y\n",
    "    x2 = x * x\n",
    "    c = x2 + y2\n",
    "    hypotentusan = math.sqrt(c)\n",
    "\n",
    "    if hypotentusan > 1:\n",
    "        miss = miss + 1\n",
    "\n",
    "    if hypotentusan < 1:\n",
    "        traff = traff + 1\n",
    "\n",
    "    resultat = traff / forsok\n",
    "\n",
    "    svar = resultat * 4\n",
    "\n",
    "print(svar)"
   ]
  },
  {
   "cell_type": "code",
   "execution_count": 295,
   "metadata": {},
   "outputs": [
    {
     "output_type": "error",
     "ename": "ModuleNotFoundError",
     "evalue": "No module named 'matplotlib'",
     "traceback": [
      "\u001b[1;31m---------------------------------------------------------------------------\u001b[0m",
      "\u001b[1;31mModuleNotFoundError\u001b[0m                       Traceback (most recent call last)",
      "\u001b[1;32m<ipython-input-295-2f5929d053be>\u001b[0m in \u001b[0;36m<module>\u001b[1;34m\u001b[0m\n\u001b[0;32m      3\u001b[0m \u001b[1;32mimport\u001b[0m \u001b[0mmath\u001b[0m\u001b[1;33m\u001b[0m\u001b[1;33m\u001b[0m\u001b[0m\n\u001b[0;32m      4\u001b[0m \u001b[1;32mimport\u001b[0m \u001b[0mrandom\u001b[0m \u001b[1;32mas\u001b[0m \u001b[0mrnd\u001b[0m\u001b[1;33m\u001b[0m\u001b[1;33m\u001b[0m\u001b[0m\n\u001b[1;32m----> 5\u001b[1;33m \u001b[1;32mimport\u001b[0m \u001b[0mmatplotlib\u001b[0m\u001b[1;33m.\u001b[0m\u001b[0mpyplot\u001b[0m \u001b[1;32mas\u001b[0m \u001b[0mplt\u001b[0m\u001b[1;33m\u001b[0m\u001b[1;33m\u001b[0m\u001b[0m\n\u001b[0m\u001b[0;32m      6\u001b[0m \u001b[1;33m\u001b[0m\u001b[0m\n\u001b[0;32m      7\u001b[0m \u001b[0mforsok\u001b[0m \u001b[1;33m=\u001b[0m \u001b[0mfloat\u001b[0m\u001b[1;33m(\u001b[0m\u001b[0minput\u001b[0m\u001b[1;33m(\u001b[0m\u001b[1;34m\"Hur många gånger kastar du?\"\u001b[0m\u001b[1;33m)\u001b[0m\u001b[1;33m)\u001b[0m\u001b[1;33m\u001b[0m\u001b[1;33m\u001b[0m\u001b[0m\n",
      "\u001b[1;31mModuleNotFoundError\u001b[0m: No module named 'matplotlib'"
     ]
    }
   ],
   "source": [
    "#uppgift 1 g\n",
    "\n",
    "import math\n",
    "import random as rnd\n",
    "import matplotlib.pyplot as plt\n",
    "\n",
    "forsok = float(input(\"Hur många gånger kastar du?\"))\n",
    "\n",
    "loop = 0\n",
    "while loop < forsok:\n",
    "    loop = loop + 1\n",
    "    y = rnd.uniform(-1, 1)\n",
    "    x = rnd.uniform(-1, 1)\n",
    "    x2 = x * x\n",
    "    y2 = y * y\n",
    "    c = x2 + y2\n",
    "    hypotentusan = math.sqrt(c)\n",
    "\n",
    "    if hypotentusan > 1:\n",
    "        plt.plot(y, x, 'r')\n",
    "    else:\n",
    "         plt.plot(y, x, 'g')\n",
    "\n",
    "plt.title(\"Pricktavla\")\n",
    "plt.show()"
   ]
  },
  {
   "cell_type": "code",
   "execution_count": 346,
   "metadata": {},
   "outputs": [
    {
     "output_type": "stream",
     "name": "stdout",
     "text": [
      "Testresultatet med gamla diametern blev att  cirkeln tar upp 0.785 av totala ytan och en träffsäkerhet på 0.72. Här kastades 100 pilar.\n",
      "För radien 1.0 blir din pricksäkerhet ungefär 0.79. Cirkeln tar upp ca 0.785 av hela den möjliga ytan. Om min hypotes stämde bör träffsäkerheten och träffarea inte vara så långt borta.\n"
     ]
    }
   ],
   "source": [
    "#uppgift 1 h\n",
    "#Det första jag tänkte på när jag såg denhär uppgiften var hur radien kan påverka resultatet. Med tanke på att radien ändrar prickytan borde radiens samband med totala prickytan ha något med resultatet att göra. Om man i genomsnitt då skulle träffa någonstans runt 80 procent av sina kast bör cirkeln ta upp ca 80 procent av totala ytan. Detta skall jag försöka undersöka med hjälp av programering.\n",
    "\n",
    "#Jag börjarmed att ta fram pricksäkerhets procenten med hjälp av den gamla metoden.\n",
    "import math\n",
    "\n",
    "trafftest = 0\n",
    "\n",
    "import random as rnd \n",
    "\n",
    "loop = 0\n",
    "\n",
    "#Här väljer jag att loopa programat så många antal gånger som man själv väljer i den förra floaten.\n",
    "while loop < 100:\n",
    "    loop = loop + 1\n",
    "   #här slumpar jag fram 2 olika koordinater för min uträkning \n",
    "    ytest = rnd.uniform(-1, 1)\n",
    "    xtest = rnd.uniform(-1, 1)\n",
    "    # här räknar jag ut avståndet från origo till punkten. Eftersom att origo är mitten av cirkeln och cirkelns radie är ett så kan du inte träffa längre än 1 ifrån origa. Detta räknar jag ut med hjälp av pythagoras sats.\n",
    "    y2test = ytest * ytest\n",
    "    x2test = xtest * xtest\n",
    "    ctest = x2test + y2test\n",
    "    hypotentusantest = math.sqrt(ctest)\n",
    "#Här skiljer jag på träffar och missar för att sedan kunna räkna fram statistiken och därmed få fram ett ssvar.\n",
    "  \n",
    "    if hypotentusantest < 1:\n",
    "        trafftest = trafftest + 1\n",
    "#Här delar jag totala antalet träffar med antal försök för att få fram pricksäkerheten i decimalform.\n",
    "    resultattest = trafftest / 100\n",
    "\n",
    "#När jag nu vet pricksäkerheten så har jag fått fram ena halvan av min hypotes. Nu är det dags att räkna på hur stor del av totala ytan den här tavlan tar upp.\n",
    "\n",
    "    cirkelareatest = 3.14 * 1**2\n",
    "    kvadratareatest = 4\n",
    "\n",
    "    traffareatest = cirkelareatest / kvadratareatest\n",
    "\n",
    "print(f\"Testresultatet med gamla diametern blev att  cirkeln tar upp 0.785 av totala ytan och en träffsäkerhet på {resultattest}. Här kastades 100 pilar.\")\n",
    "\n",
    "#När jag sedan har ett exempel på detta så skall jag göra ett allmänt program för att få fram ungefärliga resultat och sedan kunna jämföra dem med hjälp av att bestäma cirkelns radie själv.\n",
    "\n",
    "radie = float(input(\"Hur stor är radien du vill använda dig av? Max radien är 1\"))\n",
    "\n",
    "traff = 0\n",
    "\n",
    "import random as rnd \n",
    "\n",
    "loop = 0\n",
    "\n",
    "while loop < 100:\n",
    "    loop = loop + 1\n",
    "    \n",
    "    y = rnd.uniform(-1, 1)\n",
    "    x = rnd.uniform(-1, 1)\n",
    "    \n",
    "    y2 = y * y\n",
    "    x2 = x * x\n",
    "    c = x2 + y2\n",
    "    hypotentusan = math.sqrt(c)\n",
    "\n",
    "    if hypotentusan < radie:\n",
    "        traff = traff + 1\n",
    "\n",
    "    resultat = traff / 100\n",
    "\n",
    "\n",
    "cirkelarea = radie * radie * 3.14\n",
    "kvadratarea = 2 * 2\n",
    "\n",
    "traffarea = cirkelarea / kvadratarea\n",
    "\n",
    "print(f\"För radien {radie} blir din pricksäkerhet ungefär {resultat}. Cirkeln tar upp ca {traffarea} av hela den möjliga ytan. Om min hypotes stämde bör träffsäkerheten och träffarea inte vara så långt borta.\")\n",
    "\n",
    "#Här i resultatet bör cirkeln ta upp ungefär lika stor del av totala ytan som din pricksäkerhet."
   ]
  },
  {
   "cell_type": "code",
   "execution_count": 161,
   "metadata": {},
   "outputs": [
    {
     "output_type": "stream",
     "name": "stdout",
     "text": [
      "0\n1\n2\n3\n4\n5\n6\n7\n8\n9\n10\n11\n12\n13\n14\n15\n16\n17\n18\n19\n20\n21\n22\n23\n24\n25\n26\n27\n28\n29\n30\n31\n32\n33\n34\n35\n36\n37\n38\n39\n40\n41\n42\n43\n44\n45\n46\n47\n48\n49\n50\n51\n52\n53\n54\n55\n56\n57\n58\n59\n60\n61\n62\n63\n64\n65\n66\n67\n68\n69\n70\n71\n72\n73\n74\n75\n76\n77\n78\n79\n80\n81\n82\n83\n84\n85\n86\n87\n88\n89\n90\n91\n92\n93\n94\n95\n96\n97\n98\n99\n100\n"
     ]
    }
   ],
   "source": [
    "#uppgift 2 a\n",
    "for i in range(0, 101):\n",
    "    print(i)\n"
   ]
  },
  {
   "cell_type": "code",
   "execution_count": 183,
   "metadata": {},
   "outputs": [
    {
     "output_type": "stream",
     "name": "stdout",
     "text": [
      "burr\n1\n2\n3\n4\nburr\n6\n7\n8\n9\nburr\n11\n12\n13\n14\nburr\n16\n17\n18\n19\nburr\n21\n22\n23\n24\nburr\n26\n27\n28\n29\nburr\n31\n32\n33\n34\nburr\n36\n37\n38\n39\nburr\n41\n42\n43\n44\nburr\n46\n47\n48\n49\nburr\n51\n52\n53\n54\nburr\n56\n57\n58\n59\nburr\n61\n62\n63\n64\nburr\n66\n67\n68\n69\nburr\n71\n72\n73\n74\nburr\n76\n77\n78\n79\nburr\n81\n82\n83\n84\nburr\n86\n87\n88\n89\nburr\n91\n92\n93\n94\nburr\n96\n97\n98\n99\nburr\n"
     ]
    }
   ],
   "source": [
    "#uppgift 2 b\n",
    "\n",
    "for i in range(0, 101):\n",
    "\n",
    "    if i%5 == 0:\n",
    "        print(\"burr\")\n",
    "\n",
    "    elif i%5 != 0:\n",
    "        print(i)\n",
    "\n"
   ]
  },
  {
   "cell_type": "code",
   "execution_count": 223,
   "metadata": {
    "tags": []
   },
   "outputs": [
    {
     "output_type": "stream",
     "name": "stdout",
     "text": [
      "burr\n1\n2\n3\n4\n5\n6\nburr\n8\n9\n10\n11\n12\n13\nburr\n15\n16\n17\n18\n19\n20\nburr\n22\n23\n24\n25\n26\n27\nburr\n29\n30\n31\n32\n33\n34\nburr\n36\n37\n38\n39\n40\n41\nburr\n43\n44\n45\n46\n47\n48\nburr\n50\n51\n52\n53\n54\n55\nburr\n57\n58\n59\n60\n61\n62\nburr\n64\n65\n66\n67\n68\n69\nburr\n71\n72\n73\n74\n75\n76\nburr\n78\n79\n80\n81\n82\n83\nburr\n85\n86\n87\n88\n89\n90\nburr\n92\n93\n94\n95\n96\n97\nburr\n99\n100\n"
     ]
    }
   ],
   "source": [
    "#uppgift 2 c\n",
    "x = float(input(\"Vilken multipel vill du övapå?\"))\n",
    "\n",
    "\n",
    "for i in range(0, 101):\n",
    "\n",
    "    if i%x == 0:\n",
    "        print(\"burr\")\n",
    "\n",
    "    elif i%x != 0:\n",
    "        print(i)"
   ]
  },
  {
   "cell_type": "code",
   "execution_count": 232,
   "metadata": {},
   "outputs": [
    {
     "output_type": "stream",
     "name": "stdout",
     "text": [
      "1\n2\n3\n4\nbirr\n6\n7\n8\n9\nburr\nbirr\n11\n12\n13\n14\nbirr\n16\n17\n18\n19\nburr\nbirr\n21\n22\n23\n24\nbirr\n26\n27\n28\n29\nburr\nbirr\n31\n32\n33\n34\nbirr\n36\n37\n38\n39\nburr\nbirr\n41\n42\n43\n44\nbirr\n46\n47\n48\n49\nburr\nbirr\n51\n52\n53\n54\nbirr\n56\n57\n58\n59\nburr\nbirr\n61\n62\n63\n64\nbirr\n66\n67\n68\n69\nburr\nbirr\n71\n72\n73\n74\nbirr\n76\n77\n78\n79\nburr\nbirr\n81\n82\n83\n84\nbirr\n86\n87\n88\n89\nburr\nbirr\n91\n92\n93\n94\nbirr\n96\n97\n98\n99\nburr\nbirr\n"
     ]
    }
   ],
   "source": [
    "#uppgift 2 d\n",
    "birr = float(input(\"Skriv in multipel för birr\"))\n",
    "\n",
    "burr = float(input(\"Skriv in multipel för burr\"))\n",
    "\n",
    "for i in range(1, 101):\n",
    "\n",
    "    if i%burr == 0:\n",
    "        print(\"burr\")\n",
    "\n",
    "    if i%birr == 0:\n",
    "        print(\"birr\")\n",
    "\n",
    "    if i%x != 0 and i%y != 0:\n",
    "        print(i)"
   ]
  },
  {
   "cell_type": "code",
   "execution_count": 239,
   "metadata": {},
   "outputs": [
    {
     "output_type": "stream",
     "name": "stdout",
     "text": [
      "burr\nbirr\n11\n12\n13\n14\nbirr\n16\n17\n18\n19\nburr\nbirr\n21\n22\n23\n24\nbirr\n26\n27\n28\n29\nburr\nbirr\nTotala antal birr är: 5, totala antalet burr är: 3 och totala antaet birrburr är:3\n"
     ]
    }
   ],
   "source": [
    "#uppgift 2 e\n",
    "\n",
    "start = int(input(\"Start för räkning\"))\n",
    "\n",
    "slut1 = int(input(\"Slut för räkning\"))\n",
    "\n",
    "birr = float(input(\"Skriv in multipel för birr\"))\n",
    "\n",
    "burr = float(input(\"Skriv in multipel för burr\"))\n",
    "\n",
    "slut = slut1 + 1\n",
    "\n",
    "antalburr = 0\n",
    "\n",
    "antalbirr = 0\n",
    "\n",
    "birrburr = 0\n",
    "\n",
    "for i in range(start, slut ):\n",
    "\n",
    "    if i%x == 0:\n",
    "        print(\"burr\")\n",
    "        antalburr = antalburr + 1\n",
    "\n",
    "    if i%y == 0:\n",
    "        print(\"birr\")\n",
    "        antalbirr = antalbirr + 1\n",
    "\n",
    "    if i%x != 0 and i%y != 0:\n",
    "        print(i)\n",
    "\n",
    "    if i%x == 0 and i%y == 0:\n",
    "        birrburr = birrburr + 1\n",
    "\n",
    "print(f\"Totala antal birr är: {antalbirr}, totala antalet burr är: {antalburr} och totala antaet birrburr är:{birrburr}\")"
   ]
  },
  {
   "cell_type": "code",
   "execution_count": 353,
   "metadata": {},
   "outputs": [
    {
     "output_type": "stream",
     "name": "stdout",
     "text": [
      "birr\nburr\numum\n1\n2\n3\n4\nbirr\n5\n6\n7\n8\n9\nbirr\nburr\n10\n11\n12\n13\n14\nbirr\numum\n15\n16\n17\n18\n19\nbirr\nburr\n20\n21\n22\n23\n24\nbirr\n25\n26\n27\n28\n29\nbirr\nburr\numum\n30\n31\n32\n33\n34\nbirr\n35\n36\n37\n38\n39\nbirr\nburr\n40\n41\n42\n43\n44\nbirr\numum\n45\n46\n47\n48\n49\nbirr\nburr\n50\n51\n52\n53\n54\nbirr\n55\n56\n57\n58\n59\nbirr\nburr\numum\n60\n61\n62\n63\n64\nbirr\n65\n66\n67\n68\n69\nbirr\nburr\n70\n71\n72\n73\n74\nbirr\numum\n75\n76\n77\n78\n79\nbirr\nburr\n80\n81\n82\n83\n84\nbirr\n85\n86\n87\n88\n89\nbirr\nburr\numum\n90\n91\n92\n93\n94\nbirr\n95\n96\n97\n98\n99\nbirr\nburr\n100\nTotala antal birr är: 21, totala antalet burr är 11 och totala antalet umum är 7\n"
     ]
    }
   ],
   "source": [
    "#uppgift 2 f\n",
    "\n",
    "#Jag har valt att lägga in en extra variabel istället för bara birr och burr. Denna variabel blev umum.\n",
    "\n",
    "start = int(input(\"Start för räkning\"))\n",
    "\n",
    "slut1 = int(input(\"Slut för räkning\"))\n",
    "\n",
    "birr = float(input(f\"Skriv in multipel för birr\"))\n",
    "\n",
    "burr = float(input(f\"Skriv in multipel för burr\"))\n",
    " \n",
    "umum = float(input(f\"Skriv din multipel för umum\"))\n",
    "\n",
    "slut = slut1 + 1\n",
    "\n",
    "antalburr = 0\n",
    "\n",
    "antalbirr = 0\n",
    "\n",
    "antalumum = 0\n",
    "\n",
    "for i in range(start, slut ):\n",
    "\n",
    "    if i%birr == 0:\n",
    "        print(\"birr\")\n",
    "        antalbirr = antalbirr + 1\n",
    "\n",
    "    if i%burr == 0:\n",
    "        print(\"burr\")\n",
    "        antalburr = antalburr + 1\n",
    "\n",
    "    if i%umum == 0:\n",
    "       print(\"umum\")\n",
    "       antalumum = antalumum + 1\n",
    "   \n",
    "    if i%x != 0 and i%y != 0:\n",
    "        print(i)\n",
    "\n",
    "print(f\"Totala antal birr är: {antalbirr}, totala antalet burr är {antalburr} och totala antalet umum är {antalumum}\")"
   ]
  },
  {
   "cell_type": "code",
   "execution_count": null,
   "metadata": {},
   "outputs": [],
   "source": []
  }
 ]
}